{
 "cells": [
  {
   "cell_type": "code",
   "execution_count": 252,
   "id": "c86ebc47",
   "metadata": {},
   "outputs": [],
   "source": [
    "from typing import Annotated\n",
    "from webdriver_manager.chrome import ChromeDriverManager\n",
    "from selenium import webdriver\n",
    "from selenium.webdriver.chrome.service import Service\n",
    "from selenium.webdriver.chrome.options import Options\n",
    "import time\n",
    "import htmltabletomd\n",
    "import re\n",
    "from bs4 import BeautifulSoup\n",
    "from openai import OpenAI\n",
    "import json\n",
    "import pandas as pd\n",
    "import htmlmin\n",
    "from io import StringIO\n",
    "import sys\n",
    "import pandas as pd\n",
    "from IPython.display import display, Markdown\n",
    "\n",
    "def extract_text_from_dynamic_site(url, wait_time=10):\n",
    "    chrome_options = Options()\n",
    "    chrome_options.add_argument(\"--headless\")\n",
    "    chrome_options.add_argument(\"--no-sandbox\")\n",
    "    chrome_options.add_argument(\"--disable-dev-shm-usage\")\n",
    "    chrome_options.add_argument(\"--disable-blink-features=AutomationControlled\")\n",
    "    chrome_options.add_experimental_option(\"excludeSwitches\", [\"enable-automation\"])\n",
    "    chrome_options.add_experimental_option('useAutomationExtension', False)\n",
    "\n",
    "    service = Service(ChromeDriverManager().install())\n",
    "    driver = webdriver.Chrome(service=service, options=chrome_options)\n",
    "\n",
    "    try:\n",
    "        driver.get(url)\n",
    "        print(f\"Loaded: {url}\")\n",
    "        time.sleep(wait_time)\n",
    "        page_source = driver.page_source\n",
    "        soup = BeautifulSoup(page_source, 'html.parser')\n",
    "        return soup\n",
    "    except Exception as e:\n",
    "        print(f\"Error: {e}\")\n",
    "        return None\n",
    "    finally:\n",
    "        driver.quit()\n",
    "\n",
    "def get_f1_driver_standings(\n",
    "    standings_type: Annotated[str, \"Select 'drivers' or 'team' championship standings.\"]\n",
    ") -> str:\n",
    "    \"\"\"Get the current F1 drivers or teams standings. \n",
    "    Use it to determine the points for each driver in the driver's championship or the points for each team in the teams' championship.\"\"\"\n",
    "    if standings_type==\"team\":\n",
    "        url = f\"https://www.formula1.com/en/results/2025/team\"\n",
    "    else:\n",
    "        url = f\"https://www.formula1.com/en/results/2025/drivers\"\n",
    "    soup_og = extract_text_from_dynamic_site(url, wait_time=3)\n",
    "    html_table = soup_og.find_all('table')[0]\n",
    "    html_text = str(html_table.prettify())\n",
    "    html_text = re.sub(\" class=\\\"[^\\\"]*\\\"\", \"\", html_text)\n",
    "    html_text = re.sub(\"<img[^>]*>\", \"\", html_text)\n",
    "    html_text = re.sub(\"<a[^>]*>\", \"\", html_text)\n",
    "    html_text = re.sub(\"<span[^>]*>\", \"\", html_text)\n",
    "    html_text = re.sub(\"</span[^>]*>\", \"\", html_text)\n",
    "    html_text = re.sub(\"<br>\", \"\", html_text)\n",
    "    html_text = re.sub(\"<p>\", \"\", html_text)\n",
    "    html_text = re.sub(\"\\\\\\n *\", \"\", html_text)\n",
    "    drivers_standings_table = htmltabletomd.convert_table(html_text)\n",
    "    return drivers_standings_table\n",
    "\n",
    "# Retreive F1 schedule (with time zones)\n",
    "def get_f1_schedule() -> str:\n",
    "    # Parse the F1 schedule from the F1 website\n",
    "    url = f\"https://www.formula1.com/en/racing/2025.html\"\n",
    "    soup_og = extract_text_from_dynamic_site(url, wait_time=3)"
   ]
  },
  {
   "cell_type": "code",
   "execution_count": null,
   "id": "c6ee833a",
   "metadata": {},
   "outputs": [
    {
     "name": "stdout",
     "output_type": "stream",
     "text": [
      "Loaded: https://www.formula1.com/en/racing/2025.html\n"
     ]
    }
   ],
   "source": [
    "url = f\"https://www.formula1.com/en/racing/2025.html\"\n",
    "soup_og = extract_text_from_dynamic_site(url, wait_time=3)\n",
    "def get_info(x):\n",
    "    x = x.prettify()\n",
    "    x = re.sub(\" class=\\\"[^\\\"]*\\\"\", \"\", x)\n",
    "    x = re.sub(\"<img[^>]*>\", \"\", x)\n",
    "    x = re.sub(\"<svg[^>]*>\", \"\", x)\n",
    "    x = re.sub(\"</svg[^>]*>\", \"\", x)\n",
    "    x = re.sub(\"<path[^>]*>\", \"\", x)\n",
    "    x = re.sub(\"</path[^>]*>\", \"\", x)\n",
    "    x = re.sub(\"<a[^>]*>\", \"\", x)\n",
    "    x = re.sub(\"<span[^>]*>\", \"<span>\", x)\n",
    "    x = re.sub(\"</span[^>]*>\", \"</span>\", x)\n",
    "    x = re.sub(\"<defs[^>]*>\", \"\", x)\n",
    "    x = re.sub(\"</defs[^>]*>\", \"\", x)\n",
    "    x = re.sub(\"<g[^>]*>\", \"\", x)\n",
    "    x = re.sub(\"</g[^>]*>\", \"\", x)\n",
    "    x = re.sub(\"<clippath[^>]*>\", \"\", x)\n",
    "    x = re.sub(\"</clippath[^>]*>\", \"\", x)\n",
    "    x = re.sub(\"<br>\", \"\", x)\n",
    "    x = re.sub(\"<p>\", \"\", x)\n",
    "    x = x.splitlines()\n",
    "    y = []\n",
    "    for line in x:\n",
    "        if line.strip() != \"\":\n",
    "            y.append(line.strip())\n",
    "    event_text = ''.join(y)\n",
    "    event_info = re.findall(r\"(?<=>)[^<>]+(?=<)\", event_text)\n",
    "    return event_info\n",
    "possible_races = soup_og.find_all(attrs={\"data-f1rd-a7s-click\": \"event_tile_click\"})\n",
    "race_cards = []\n",
    "for race in possible_races:\n",
    "    if len(race.find_all('title')) > 0:\n",
    "        race_cards.append(race)\n",
    "for race in race_cards:\n",
    "    country = race.find_all('title')[-1].text[8:]\n",
    "event_info_list = []\n",
    "for race in race_cards:\n",
    "    event_info_list.append(get_info(race))\n",
    "events = []\n",
    "event_dict = {}\n",
    "for event in event_info_list:\n",
    "    if len(event)==5:\n",
    "        round = event[0]\n",
    "        country = event[2]\n",
    "        event_name = event[3]\n",
    "        dates = event[4]\n",
    "    elif len(event)==6:\n",
    "        round = event[0]\n",
    "        country = event[3]\n",
    "        event_name = event[4]\n",
    "        dates = event[5]\n",
    "    if len(event)>6:\n",
    "        round = event[0]\n",
    "        country = event[4]\n",
    "        event_name = event[5]\n",
    "        dates = event[2]\n",
    "    event_dict[round] = {\"Country\": country, \"Dates\": dates}\n",
    "schedule_text = pd.DataFrame(event_dict).T.to_markdown()"
   ]
  },
  {
   "cell_type": "code",
   "execution_count": 334,
   "id": "59392ee9",
   "metadata": {},
   "outputs": [],
   "source": [
    "# Write schedule_text to an txt file\n",
    "with open(\"data-cache/schedule_text.txt\", \"w\") as f:\n",
    "    f.write(schedule_text)"
   ]
  },
  {
   "cell_type": "code",
   "execution_count": 254,
   "id": "ff92654c",
   "metadata": {},
   "outputs": [
    {
     "name": "stdout",
     "output_type": "stream",
     "text": [
      "Loaded: https://www.formula1.com/en/results/2025/drivers\n"
     ]
    }
   ],
   "source": [
    "# Drivers\n",
    "url = f\"https://www.formula1.com/en/results/2025/drivers\"\n",
    "soup_og = extract_text_from_dynamic_site(url, wait_time=3)\n",
    "html_table = soup_og.find_all('table')[0]\n",
    "html_text = str(html_table.prettify())\n",
    "html_text = re.sub(\" class=\\\"[^\\\"]*\\\"\", \"\", html_text)\n",
    "html_text = re.sub(\"<img[^>]*>\", \"\", html_text)\n",
    "html_text = re.sub(\"<a[^>]*>\", \"\", html_text)\n",
    "html_text = re.sub(\"<span[^>]*>\", \"\", html_text)\n",
    "html_text = re.sub(\"</span[^>]*>\", \"\", html_text)\n",
    "html_text = re.sub(\"<br>\", \"\", html_text)\n",
    "html_text = re.sub(\"<p>\", \"\", html_text)\n",
    "html_text = re.sub(\"\\\\\\n *\", \"\", html_text)\n",
    "dr_raw_markdown_table = htmltabletomd.convert_table(html_text)\n",
    "drivers = pd.read_html(StringIO(html_text))[0]\n",
    "dr_html_table = drivers.set_index('POS.')[['DRIVER', 'TEAM', 'PTS.']].to_html(border='')\n",
    "dr_minified = htmlmin.minify(dr_html_table, remove_empty_space=True).replace(\" class=dataframe\", \"\").replace(' style=\"text-align: right;\"', \"\")"
   ]
  },
  {
   "cell_type": "code",
   "execution_count": 255,
   "id": "804a46ec",
   "metadata": {},
   "outputs": [],
   "source": [
    "# Write dr_minified to an html file\n",
    "with open(\"data-cache/drivers_standings.html\", \"w\") as f:\n",
    "    f.write(dr_minified)"
   ]
  },
  {
   "cell_type": "code",
   "execution_count": 256,
   "id": "0268890c",
   "metadata": {},
   "outputs": [
    {
     "data": {
      "application/vnd.microsoft.datawrangler.viewer.v0+json": {
       "columns": [
        {
         "name": "index",
         "rawType": "int64",
         "type": "integer"
        },
        {
         "name": "DRIVER",
         "rawType": "object",
         "type": "string"
        },
        {
         "name": "%_team_points",
         "rawType": "float64",
         "type": "float"
        }
       ],
       "ref": "5db9f46b-f1d5-4646-8818-60d12b08729c",
       "rows": [
        [
         "2",
         "MaxVerstappenVER",
         "95.0413223140496"
        ],
        [
         "6",
         "AlexanderAlbonALB",
         "81.3953488372093"
        ],
        [
         "3",
         "GeorgeRussellRUS",
         "74.61538461538461"
        ],
        [
         "9",
         "NicoHulkenbergHUL",
         "67.27272727272727"
        ],
        [
         "8",
         "IsackHadjarHAD",
         "65.51724137931035"
        ],
        [
         "4",
         "CharlesLeclercLEC",
         "58.214285714285715"
        ],
        [
         "0",
         "OscarPiastriPIA",
         "52.51215559157212"
        ],
        [
         "10",
         "LanceStrollSTR",
         "51.61290322580645"
        ],
        [
         "11",
         "FernandoAlonsoALO",
         "48.38709677419355"
        ],
        [
         "1",
         "LandoNorrisNOR",
         "47.487844408427875"
        ]
       ],
       "shape": {
        "columns": 2,
        "rows": 10
       }
      },
      "text/html": [
       "<div>\n",
       "<style scoped>\n",
       "    .dataframe tbody tr th:only-of-type {\n",
       "        vertical-align: middle;\n",
       "    }\n",
       "\n",
       "    .dataframe tbody tr th {\n",
       "        vertical-align: top;\n",
       "    }\n",
       "\n",
       "    .dataframe thead th {\n",
       "        text-align: right;\n",
       "    }\n",
       "</style>\n",
       "<table border=\"1\" class=\"dataframe\">\n",
       "  <thead>\n",
       "    <tr style=\"text-align: right;\">\n",
       "      <th></th>\n",
       "      <th>DRIVER</th>\n",
       "      <th>%_team_points</th>\n",
       "    </tr>\n",
       "  </thead>\n",
       "  <tbody>\n",
       "    <tr>\n",
       "      <th>2</th>\n",
       "      <td>MaxVerstappenVER</td>\n",
       "      <td>95.041322</td>\n",
       "    </tr>\n",
       "    <tr>\n",
       "      <th>6</th>\n",
       "      <td>AlexanderAlbonALB</td>\n",
       "      <td>81.395349</td>\n",
       "    </tr>\n",
       "    <tr>\n",
       "      <th>3</th>\n",
       "      <td>GeorgeRussellRUS</td>\n",
       "      <td>74.615385</td>\n",
       "    </tr>\n",
       "    <tr>\n",
       "      <th>9</th>\n",
       "      <td>NicoHulkenbergHUL</td>\n",
       "      <td>67.272727</td>\n",
       "    </tr>\n",
       "    <tr>\n",
       "      <th>8</th>\n",
       "      <td>IsackHadjarHAD</td>\n",
       "      <td>65.517241</td>\n",
       "    </tr>\n",
       "    <tr>\n",
       "      <th>4</th>\n",
       "      <td>CharlesLeclercLEC</td>\n",
       "      <td>58.214286</td>\n",
       "    </tr>\n",
       "    <tr>\n",
       "      <th>0</th>\n",
       "      <td>OscarPiastriPIA</td>\n",
       "      <td>52.512156</td>\n",
       "    </tr>\n",
       "    <tr>\n",
       "      <th>10</th>\n",
       "      <td>LanceStrollSTR</td>\n",
       "      <td>51.612903</td>\n",
       "    </tr>\n",
       "    <tr>\n",
       "      <th>11</th>\n",
       "      <td>FernandoAlonsoALO</td>\n",
       "      <td>48.387097</td>\n",
       "    </tr>\n",
       "    <tr>\n",
       "      <th>1</th>\n",
       "      <td>LandoNorrisNOR</td>\n",
       "      <td>47.487844</td>\n",
       "    </tr>\n",
       "  </tbody>\n",
       "</table>\n",
       "</div>"
      ],
      "text/plain": [
       "               DRIVER  %_team_points\n",
       "2    MaxVerstappenVER      95.041322\n",
       "6   AlexanderAlbonALB      81.395349\n",
       "3    GeorgeRussellRUS      74.615385\n",
       "9   NicoHulkenbergHUL      67.272727\n",
       "8      IsackHadjarHAD      65.517241\n",
       "4   CharlesLeclercLEC      58.214286\n",
       "0     OscarPiastriPIA      52.512156\n",
       "10     LanceStrollSTR      51.612903\n",
       "11  FernandoAlonsoALO      48.387097\n",
       "1      LandoNorrisNOR      47.487844"
      ]
     },
     "execution_count": 256,
     "metadata": {},
     "output_type": "execute_result"
    }
   ],
   "source": [
    "drivers['team_points'] = drivers.groupby('TEAM')['PTS.'].transform('sum')\n",
    "drivers['%_team_points'] = drivers['PTS.'] / drivers['team_points'] * 100\n",
    "drivers[drivers['team_points']>50][['DRIVER', '%_team_points']].sort_values(by='%_team_points', ascending=False).head(10)"
   ]
  },
  {
   "cell_type": "code",
   "execution_count": 257,
   "id": "bec4eca1",
   "metadata": {},
   "outputs": [],
   "source": [
    "# HTML table whitespace\n",
    "dr_html_table = drivers.set_index('POS.')[['DRIVER', 'TEAM', 'PTS.']].to_html(border='')\n",
    "# Minify HTML\n",
    "dr_minified = htmlmin.minify(dr_html_table, remove_empty_space=True)\n",
    "# Markdown table\n",
    "dr_markdown_table = drivers.set_index('POS.')[['DRIVER', 'TEAM', 'PTS.']].to_markdown()\n",
    "# Natural language - New line\n",
    "dr_nl_1 = []\n",
    "for row in drivers[['POS.', 'DRIVER', 'TEAM', 'PTS.']].values:\n",
    "    dr_nl_1.append(f\"{row[0]}. {row[1]} has {row[3]} points and drives for {row[2]}.\")\n",
    "dr_nl_1 = '\\n'.join(dr_nl_1)\n",
    "# Natural language - <> tag inline\n",
    "dr_nl_2 = []\n",
    "for row in drivers[['POS.', 'DRIVER', 'TEAM', 'PTS.']].values:\n",
    "    dr_nl_2.append(f\"<{row[0]}>{row[1]} has {row[3]} points and drives for {row[2]}</{row[0]}>\")\n",
    "dr_nl_2 = ''.join(dr_nl_2)\n",
    "# Natural language - <> tag new line\n",
    "dr_nl_3 = []\n",
    "for row in drivers[['POS.', 'DRIVER', 'TEAM', 'PTS.']].values:\n",
    "    dr_nl_3.append(f\"<{row[0]}>{row[1]} has {row[3]} points and drives for {row[2]}</{row[0]}>\")\n",
    "dr_nl_3 = '\\n'.join(dr_nl_3)"
   ]
  },
  {
   "cell_type": "code",
   "execution_count": 258,
   "id": "e47f19ce",
   "metadata": {},
   "outputs": [],
   "source": [
    "dr_table_formats = {\n",
    "    \"html_table\": dr_html_table,\n",
    "    \"html_mini\": dr_minified,\n",
    "    \"markdown_table\": dr_markdown_table,\n",
    "    \"raw_markdown_table\": dr_raw_markdown_table,\n",
    "    \"natural_language_new_line\": dr_nl_1,\n",
    "    \"natural_language_inline_tags\": dr_nl_2,\n",
    "    \"natural_language_new_line_tags\": dr_nl_3\n",
    "}"
   ]
  },
  {
   "cell_type": "code",
   "execution_count": 259,
   "id": "15d67e31",
   "metadata": {},
   "outputs": [
    {
     "name": "stdout",
     "output_type": "stream",
     "text": [
      "Loaded: https://www.formula1.com/en/results/2025/team\n"
     ]
    }
   ],
   "source": [
    "# Teams\n",
    "url = f\"https://www.formula1.com/en/results/2025/team\"\n",
    "soup_og = extract_text_from_dynamic_site(url, wait_time=3)\n",
    "html_table = soup_og.find_all('table')[0]\n",
    "html_text = str(html_table.prettify())\n",
    "html_text = re.sub(\" class=\\\"[^\\\"]*\\\"\", \"\", html_text)\n",
    "html_text = re.sub(\"<img[^>]*>\", \"\", html_text)\n",
    "html_text = re.sub(\"<a[^>]*>\", \"\", html_text)\n",
    "html_text = re.sub(\"<span[^>]*>\", \"\", html_text)\n",
    "html_text = re.sub(\"</span[^>]*>\", \"\", html_text)\n",
    "html_text = re.sub(\"<br>\", \"\", html_text)\n",
    "html_text = re.sub(\"<p>\", \"\", html_text)\n",
    "html_text = re.sub(\"\\\\\\n *\", \"\", html_text)\n",
    "tm_raw_markdown_table = htmltabletomd.convert_table(html_text)\n",
    "teams = pd.read_html(StringIO(html_text))[0]\n",
    "# HTML table whitespace\n",
    "tm_html_table = teams.set_index('POS.')[['TEAM', 'PTS.']].to_html(border='')\n",
    "# Minify HTML\n",
    "tm_minified = htmlmin.minify(tm_html_table, remove_empty_space=True).replace(\" class=dataframe\", \"\").replace(' style=\"text-align: right;\"', \"\")"
   ]
  },
  {
   "cell_type": "code",
   "execution_count": 260,
   "id": "d1d62c93",
   "metadata": {},
   "outputs": [],
   "source": [
    "# Write dr_minified to an html file\n",
    "with open(\"data-cache/team_standings.html\", \"w\") as f:\n",
    "    f.write(tm_minified)"
   ]
  },
  {
   "cell_type": "code",
   "execution_count": 261,
   "id": "872f50cf",
   "metadata": {},
   "outputs": [],
   "source": [
    "# HTML table whitespace\n",
    "tm_html_table = teams.set_index('POS.')[['TEAM', 'PTS.']].to_html(border='')\n",
    "# Minify HTML\n",
    "tm_minified = htmlmin.minify(tm_html_table, remove_empty_space=True)\n",
    "# Markdown table\n",
    "tm_markdown_table = teams.set_index('POS.')[['TEAM', 'PTS.']].to_markdown()\n",
    "# Natural language - New line\n",
    "tm_nl_1 = []\n",
    "for row in teams[['POS.', 'TEAM', 'PTS.']].values:\n",
    "    tm_nl_1.append(f\"{row[0]}. {row[1]} has {row[2]} points.\")\n",
    "tm_nl_1 = '\\n'.join(tm_nl_1)\n",
    "# Natural language - <> tag inline\n",
    "tm_nl_2 = []\n",
    "for row in teams[['POS.', 'TEAM', 'PTS.']].values:\n",
    "    tm_nl_2.append(f\"<{row[0]}>{row[1]} has {row[2]} points</{row[0]}>\")\n",
    "tm_nl_2 = ''.join(tm_nl_2)\n",
    "# Natural language - <> tag new line\n",
    "tm_nl_3 = []\n",
    "for row in teams[['POS.', 'TEAM', 'PTS.']].values:\n",
    "    tm_nl_3.append(f\"<{row[0]}>{row[1]} has {row[2]} points</{row[0]}>\")\n",
    "tm_nl_3 = '\\n'.join(tm_nl_3)"
   ]
  },
  {
   "cell_type": "code",
   "execution_count": 262,
   "id": "388587bc",
   "metadata": {},
   "outputs": [],
   "source": [
    "tm_table_formats = {\n",
    "    \"html_table\": tm_html_table,\n",
    "    \"html_mini\": tm_minified,\n",
    "    \"markdown_table\": tm_markdown_table,\n",
    "    \"raw_markdown_table\": tm_raw_markdown_table,\n",
    "    \"natural_language_new_line\": tm_nl_1,\n",
    "    \"natural_language_inline_tags\": tm_nl_2,\n",
    "    \"natural_language_new_line_tags\": tm_nl_3\n",
    "}"
   ]
  },
  {
   "cell_type": "code",
   "execution_count": 263,
   "id": "c2ab1989",
   "metadata": {},
   "outputs": [],
   "source": [
    "table_formats = list(set(dr_table_formats.keys()).intersection(set(tm_table_formats.keys())))"
   ]
  },
  {
   "cell_type": "code",
   "execution_count": 287,
   "id": "ffe6be68",
   "metadata": {},
   "outputs": [],
   "source": [
    "qas = pd.read_csv('test_prompts.txt', sep='|', header=None, names=['Prompt', 'Answer']).values"
   ]
  },
  {
   "cell_type": "code",
   "execution_count": 288,
   "id": "3a2abbd1",
   "metadata": {},
   "outputs": [],
   "source": [
    "curr_date = pd.Timestamp.now().strftime('%b %d, %Y')"
   ]
  },
  {
   "cell_type": "code",
   "execution_count": 335,
   "id": "82db198b",
   "metadata": {},
   "outputs": [
    {
     "name": "stdout",
     "output_type": "stream",
     "text": [
      "13/13 - html_tablenguage_inline_tagsgs\r"
     ]
    }
   ],
   "source": [
    "results = []\n",
    "for i, (prompt, answer) in enumerate(qas):\n",
    "    for curr_table_name in table_formats:\n",
    "        # Point to the local server\n",
    "        client = OpenAI(base_url=\"http://localhost:1234/v1\", api_key=\"lm-studio\")\n",
    "        model = \"qwen/qwen3-4b-2507\"\n",
    "        def get_f1_driver_standings() -> str:\n",
    "            \"\"\"Get the current F1 drivers standings. \n",
    "            Use it to determine the points for each driver in the driver's championship.\"\"\"\n",
    "            return dr_table_formats[curr_table_name]\n",
    "        def get_f1_team_standings() -> str:\n",
    "            \"\"\"Get the current F1 teams standings. \n",
    "            Use it to determine the points for each team in the teams' championship.\"\"\"\n",
    "            return tm_table_formats[curr_table_name]\n",
    "\n",
    "        tools = [\n",
    "            {\n",
    "                \"type\":\"function\",\n",
    "                \"function\": {\n",
    "                    \"name\": \"get_f1_driver_standings\",\n",
    "                    \"description\": \"Get the current F1 drivers standings. Use it to determine the points for each driver in the driver's championship.\",\n",
    "                    \"parameters\":  {\n",
    "                        \"type\": \"object\",\n",
    "                        \"properties\": {}\n",
    "                    },\n",
    "                        \"additionalProperties\": False,\n",
    "                    },\n",
    "                },\n",
    "            {\n",
    "                \"type\":\"function\",\n",
    "                \"function\": {\n",
    "                    \"name\": \"get_f1_team_standings\",\n",
    "                    \"description\": \"Get the current F1 team standings. Use it to determine the points for each team in the teams' championship.\",\n",
    "                    \"parameters\":  {\n",
    "                        \"type\": \"object\",\n",
    "                        \"properties\": {}\n",
    "                    },\n",
    "                        \"additionalProperties\": False,\n",
    "                    },\n",
    "                },\n",
    "        ]\n",
    "\n",
    "        messages = [\n",
    "            {\n",
    "                \"role\":\"system\",\n",
    "                \"content\":f\"\"\"You are an expert in Formula 1 that will assist the user with questions regarding the sport.\n",
    "The current date is {curr_date}.\n",
    "The schedule is as follows:\n",
    "{schedule_text}\n",
    "There have been a few changes in terms of driver line-ups.\n",
    "If you need to know which driver belongs to a certain team or which team a driver belongs to, use `get_f1_driver_standings`.\n",
    "Use `get_f1_driver_standings` and `get_f1_team_standings` to assist the user.\"\"\",\n",
    "            },\n",
    "            {\n",
    "                \"role\": \"user\",\n",
    "                \"content\": prompt,\n",
    "            },\n",
    "        ]\n",
    "\n",
    "        # LM Studio\n",
    "        response = client.chat.completions.create(\n",
    "            model=model,\n",
    "            messages=messages,\n",
    "            tools=tools,\n",
    "        )\n",
    "        first_response = response\n",
    "        # Extract the arguments for get_delivery_date\n",
    "        # Note this code assumes we have already determined that the model generated a function call.\n",
    "        tool_calls = getattr(response.choices[0].message, \"tool_calls\", None)\n",
    "        if tool_calls and len(tool_calls) > 0:\n",
    "            tool_call_response_payloads = []\n",
    "            function_call_results = {}\n",
    "            for tool_call in tool_calls:\n",
    "                # Get a reference to the current module\n",
    "                current_module = sys.modules[__name__]\n",
    "                # Dynamically get and call the function\n",
    "                function_name = tool_call.function.name\n",
    "                result = getattr(current_module, function_name)()\n",
    "                tool_call_response_payload = {\n",
    "                    \"id\":tool_call.id,\n",
    "                    \"type\":tool_call.type,\n",
    "                    \"function\":tool_call.function,\n",
    "                }\n",
    "                tool_call_response_payloads.append(tool_call_response_payload)\n",
    "                function_call_results[function_name] = result\n",
    "            assistant_tool_call_request_message = {\n",
    "                \"role\": \"assistant\",\n",
    "                \"tool_calls\": tool_call_response_payloads\n",
    "            }\n",
    "\n",
    "            # Create a message containing the result of the function call\n",
    "            function_call_result_message = {\n",
    "                \"role\":\"tool\",\n",
    "                \"content\": json.dumps(\n",
    "                    function_call_results\n",
    "                ),\n",
    "                \"tool_call_id\": tool_call.id,\n",
    "            }\n",
    "\n",
    "            # Prepare the chat completion call payload\n",
    "            completion_messages_payload = [\n",
    "                messages[0],\n",
    "                messages[1],\n",
    "                assistant_tool_call_request_message,\n",
    "                function_call_result_message,\n",
    "            ]\n",
    "\n",
    "            # Call the OpenAI API's chat completions endpoint to send the tool call result back\n",
    "            # to the model\n",
    "            response = client.chat.completions.create(\n",
    "                model=model,\n",
    "                messages=completion_messages_payload,\n",
    "            )\n",
    "\n",
    "        final_response = response.choices[0].message.content\n",
    "        messages = [\n",
    "            {\n",
    "                \"role\":\"system\",\n",
    "                \"content\":\"You a teacher evaluating student answers to questions about Formula 1. You have a <question> a <correct_answer> and a <student_answer>. Only respond with 'Correct' or 'Incorrect'.\",\n",
    "            },\n",
    "            {\n",
    "                \"role\": \"user\",\n",
    "                \"content\": f\"<question>{prompt}</question><correct_answer>{answer}</correct_answer><student_answer>{final_response}</student_answer>\",\n",
    "            },\n",
    "        ]\n",
    "\n",
    "        # LM Studio\n",
    "        response = client.chat.completions.create(\n",
    "            model=model,\n",
    "            messages=messages,\n",
    "        )\n",
    "        evaluation = response.choices[0].message.content\n",
    "        results.append([model, curr_table_name, prompt, answer, final_response, len(final_response), evaluation])\n",
    "        print(f\"{i+1}/{len(qas)} - {curr_table_name}\", end='\\r')\n",
    "results_df = pd.DataFrame(results, columns=['model', 'table_format', 'prompt', 'correct_answer', 'final_answer', 'final_answer_length', 'evaluation'])\n",
    "results_df['good'] = results_df['evaluation'].map({'Correct': 1, 'Incorrect': 0})"
   ]
  },
  {
   "cell_type": "code",
   "execution_count": 336,
   "id": "4d395747",
   "metadata": {},
   "outputs": [
    {
     "data": {
      "application/vnd.microsoft.datawrangler.viewer.v0+json": {
       "columns": [
        {
         "name": "index",
         "rawType": "int64",
         "type": "integer"
        },
        {
         "name": "table_format",
         "rawType": "object",
         "type": "string"
        },
        {
         "name": "good",
         "rawType": "float64",
         "type": "float"
        },
        {
         "name": "final_answer_length",
         "rawType": "float64",
         "type": "float"
        }
       ],
       "ref": "0dfda348-d1a0-4f0e-af4a-f927319ca7a1",
       "rows": [
        [
         "0",
         "html_mini",
         "0.5384615384615384",
         "647.8461538461538"
        ],
        [
         "1",
         "html_table",
         "0.5384615384615384",
         "610.3076923076923"
        ],
        [
         "2",
         "markdown_table",
         "0.3076923076923077",
         "503.61538461538464"
        ],
        [
         "3",
         "natural_language_inline_tags",
         "0.5384615384615384",
         "667.4615384615385"
        ],
        [
         "4",
         "natural_language_new_line",
         "0.46153846153846156",
         "428.6923076923077"
        ],
        [
         "5",
         "natural_language_new_line_tags",
         "0.3076923076923077",
         "461.3076923076923"
        ],
        [
         "6",
         "raw_markdown_table",
         "0.38461538461538464",
         "391.15384615384613"
        ]
       ],
       "shape": {
        "columns": 3,
        "rows": 7
       }
      },
      "text/html": [
       "<div>\n",
       "<style scoped>\n",
       "    .dataframe tbody tr th:only-of-type {\n",
       "        vertical-align: middle;\n",
       "    }\n",
       "\n",
       "    .dataframe tbody tr th {\n",
       "        vertical-align: top;\n",
       "    }\n",
       "\n",
       "    .dataframe thead th {\n",
       "        text-align: right;\n",
       "    }\n",
       "</style>\n",
       "<table border=\"1\" class=\"dataframe\">\n",
       "  <thead>\n",
       "    <tr style=\"text-align: right;\">\n",
       "      <th></th>\n",
       "      <th>table_format</th>\n",
       "      <th>good</th>\n",
       "      <th>final_answer_length</th>\n",
       "    </tr>\n",
       "  </thead>\n",
       "  <tbody>\n",
       "    <tr>\n",
       "      <th>0</th>\n",
       "      <td>html_mini</td>\n",
       "      <td>0.538462</td>\n",
       "      <td>647.846154</td>\n",
       "    </tr>\n",
       "    <tr>\n",
       "      <th>1</th>\n",
       "      <td>html_table</td>\n",
       "      <td>0.538462</td>\n",
       "      <td>610.307692</td>\n",
       "    </tr>\n",
       "    <tr>\n",
       "      <th>2</th>\n",
       "      <td>markdown_table</td>\n",
       "      <td>0.307692</td>\n",
       "      <td>503.615385</td>\n",
       "    </tr>\n",
       "    <tr>\n",
       "      <th>3</th>\n",
       "      <td>natural_language_inline_tags</td>\n",
       "      <td>0.538462</td>\n",
       "      <td>667.461538</td>\n",
       "    </tr>\n",
       "    <tr>\n",
       "      <th>4</th>\n",
       "      <td>natural_language_new_line</td>\n",
       "      <td>0.461538</td>\n",
       "      <td>428.692308</td>\n",
       "    </tr>\n",
       "    <tr>\n",
       "      <th>5</th>\n",
       "      <td>natural_language_new_line_tags</td>\n",
       "      <td>0.307692</td>\n",
       "      <td>461.307692</td>\n",
       "    </tr>\n",
       "    <tr>\n",
       "      <th>6</th>\n",
       "      <td>raw_markdown_table</td>\n",
       "      <td>0.384615</td>\n",
       "      <td>391.153846</td>\n",
       "    </tr>\n",
       "  </tbody>\n",
       "</table>\n",
       "</div>"
      ],
      "text/plain": [
       "                     table_format      good  final_answer_length\n",
       "0                       html_mini  0.538462           647.846154\n",
       "1                      html_table  0.538462           610.307692\n",
       "2                  markdown_table  0.307692           503.615385\n",
       "3    natural_language_inline_tags  0.538462           667.461538\n",
       "4       natural_language_new_line  0.461538           428.692308\n",
       "5  natural_language_new_line_tags  0.307692           461.307692\n",
       "6              raw_markdown_table  0.384615           391.153846"
      ]
     },
     "execution_count": 336,
     "metadata": {},
     "output_type": "execute_result"
    }
   ],
   "source": [
    "results_df.groupby('table_format')[['good', 'final_answer_length']].mean().reset_index()"
   ]
  },
  {
   "cell_type": "code",
   "execution_count": 337,
   "id": "acdb01f1",
   "metadata": {},
   "outputs": [
    {
     "data": {
      "application/vnd.microsoft.datawrangler.viewer.v0+json": {
       "columns": [
        {
         "name": "index",
         "rawType": "int64",
         "type": "integer"
        },
        {
         "name": "prompt",
         "rawType": "object",
         "type": "string"
        },
        {
         "name": "good",
         "rawType": "int64",
         "type": "integer"
        }
       ],
       "ref": "b5dbee84-d93e-4bb9-9a95-506f890c63cd",
       "rows": [
        [
         "0",
         "What is the next race?",
         "0"
        ],
        [
         "7",
         "When is the Mexican grand prix?",
         "1"
        ],
        [
         "14",
         "What is the last race on the calendar?",
         "0"
        ],
        [
         "21",
         "Who is leading the f1 drivers championship?",
         "1"
        ],
        [
         "28",
         "Which driver has the largest share of his teams points?",
         "1"
        ],
        [
         "35",
         "Which driver has the largest share of his teams points, where the combined team total is more than 50 points?",
         "0"
        ],
        [
         "42",
         "Which driver who is NOT part of Mclaren, Redbull, Ferrari or Mercedes has the most points?",
         "1"
        ],
        [
         "49",
         "Which team is in 3rd place in the championship?",
         "1"
        ],
        [
         "56",
         "Which drivers are part of the team that is last in the standings?",
         "0"
        ],
        [
         "63",
         "Which drivers have over 100 points in the standings?",
         "0"
        ],
        [
         "70",
         "Who is the worst driver racing for Alpine?",
         "1"
        ],
        [
         "77",
         "What is the points difference between 1st and 2nd place?",
         "1"
        ],
        [
         "84",
         "Who are the closest rivals to both Ferrari drivers?",
         "0"
        ]
       ],
       "shape": {
        "columns": 2,
        "rows": 13
       }
      },
      "text/html": [
       "<div>\n",
       "<style scoped>\n",
       "    .dataframe tbody tr th:only-of-type {\n",
       "        vertical-align: middle;\n",
       "    }\n",
       "\n",
       "    .dataframe tbody tr th {\n",
       "        vertical-align: top;\n",
       "    }\n",
       "\n",
       "    .dataframe thead th {\n",
       "        text-align: right;\n",
       "    }\n",
       "</style>\n",
       "<table border=\"1\" class=\"dataframe\">\n",
       "  <thead>\n",
       "    <tr style=\"text-align: right;\">\n",
       "      <th></th>\n",
       "      <th>prompt</th>\n",
       "      <th>good</th>\n",
       "    </tr>\n",
       "  </thead>\n",
       "  <tbody>\n",
       "    <tr>\n",
       "      <th>0</th>\n",
       "      <td>What is the next race?</td>\n",
       "      <td>0</td>\n",
       "    </tr>\n",
       "    <tr>\n",
       "      <th>7</th>\n",
       "      <td>When is the Mexican grand prix?</td>\n",
       "      <td>1</td>\n",
       "    </tr>\n",
       "    <tr>\n",
       "      <th>14</th>\n",
       "      <td>What is the last race on the calendar?</td>\n",
       "      <td>0</td>\n",
       "    </tr>\n",
       "    <tr>\n",
       "      <th>21</th>\n",
       "      <td>Who is leading the f1 drivers championship?</td>\n",
       "      <td>1</td>\n",
       "    </tr>\n",
       "    <tr>\n",
       "      <th>28</th>\n",
       "      <td>Which driver has the largest share of his team...</td>\n",
       "      <td>1</td>\n",
       "    </tr>\n",
       "    <tr>\n",
       "      <th>35</th>\n",
       "      <td>Which driver has the largest share of his team...</td>\n",
       "      <td>0</td>\n",
       "    </tr>\n",
       "    <tr>\n",
       "      <th>42</th>\n",
       "      <td>Which driver who is NOT part of Mclaren, Redbu...</td>\n",
       "      <td>1</td>\n",
       "    </tr>\n",
       "    <tr>\n",
       "      <th>49</th>\n",
       "      <td>Which team is in 3rd place in the championship?</td>\n",
       "      <td>1</td>\n",
       "    </tr>\n",
       "    <tr>\n",
       "      <th>56</th>\n",
       "      <td>Which drivers are part of the team that is las...</td>\n",
       "      <td>0</td>\n",
       "    </tr>\n",
       "    <tr>\n",
       "      <th>63</th>\n",
       "      <td>Which drivers have over 100 points in the stan...</td>\n",
       "      <td>0</td>\n",
       "    </tr>\n",
       "    <tr>\n",
       "      <th>70</th>\n",
       "      <td>Who is the worst driver racing for Alpine?</td>\n",
       "      <td>1</td>\n",
       "    </tr>\n",
       "    <tr>\n",
       "      <th>77</th>\n",
       "      <td>What is the points difference between 1st and ...</td>\n",
       "      <td>1</td>\n",
       "    </tr>\n",
       "    <tr>\n",
       "      <th>84</th>\n",
       "      <td>Who are the closest rivals to both Ferrari dri...</td>\n",
       "      <td>0</td>\n",
       "    </tr>\n",
       "  </tbody>\n",
       "</table>\n",
       "</div>"
      ],
      "text/plain": [
       "                                               prompt  good\n",
       "0                              What is the next race?     0\n",
       "7                     When is the Mexican grand prix?     1\n",
       "14             What is the last race on the calendar?     0\n",
       "21        Who is leading the f1 drivers championship?     1\n",
       "28  Which driver has the largest share of his team...     1\n",
       "35  Which driver has the largest share of his team...     0\n",
       "42  Which driver who is NOT part of Mclaren, Redbu...     1\n",
       "49    Which team is in 3rd place in the championship?     1\n",
       "56  Which drivers are part of the team that is las...     0\n",
       "63  Which drivers have over 100 points in the stan...     0\n",
       "70         Who is the worst driver racing for Alpine?     1\n",
       "77  What is the points difference between 1st and ...     1\n",
       "84  Who are the closest rivals to both Ferrari dri...     0"
      ]
     },
     "execution_count": 337,
     "metadata": {},
     "output_type": "execute_result"
    }
   ],
   "source": [
    "results_df[results_df['table_format']=='html_mini'][['prompt', 'good']]"
   ]
  },
  {
   "cell_type": "code",
   "execution_count": 338,
   "id": "a4c90099",
   "metadata": {},
   "outputs": [
    {
     "data": {
      "application/vnd.microsoft.datawrangler.viewer.v0+json": {
       "columns": [
        {
         "name": "prompt",
         "rawType": "object",
         "type": "string"
        },
        {
         "name": "good",
         "rawType": "float64",
         "type": "float"
        },
        {
         "name": "final_answer_length",
         "rawType": "float64",
         "type": "float"
        }
       ],
       "ref": "fdbcf05e-6b89-42ec-bf9a-ae351035ae6b",
       "rows": [
        [
         "What is the last race on the calendar?",
         "0.0",
         "79.0"
        ],
        [
         "What is the next race?",
         "0.0",
         "67.14285714285714"
        ],
        [
         "What is the points difference between 1st and 2nd place?",
         "1.0",
         "142.28571428571428"
        ],
        [
         "When is the Mexican grand prix?",
         "1.0",
         "46.285714285714285"
        ],
        [
         "Which driver has the largest share of his teams points, where the combined team total is more than 50 points?",
         "0.0",
         "707.4285714285714"
        ],
        [
         "Which driver has the largest share of his teams points?",
         "0.42857142857142855",
         "2006.0"
        ],
        [
         "Which driver who is NOT part of Mclaren, Redbull, Ferrari or Mercedes has the most points?",
         "0.5714285714285714",
         "587.4285714285714"
        ],
        [
         "Which drivers are part of the team that is last in the standings?",
         "0.0",
         "317.7142857142857"
        ],
        [
         "Which drivers have over 100 points in the standings?",
         "0.0",
         "459.7142857142857"
        ],
        [
         "Which team is in 3rd place in the championship?",
         "1.0",
         "287.85714285714283"
        ],
        [
         "Who are the closest rivals to both Ferrari drivers?",
         "0.0",
         "1375.7142857142858"
        ],
        [
         "Who is leading the f1 drivers championship?",
         "1.0",
         "85.57142857142857"
        ],
        [
         "Who is the worst driver racing for Alpine?",
         "0.7142857142857143",
         "728.5714285714286"
        ]
       ],
       "shape": {
        "columns": 2,
        "rows": 13
       }
      },
      "text/html": [
       "<div>\n",
       "<style scoped>\n",
       "    .dataframe tbody tr th:only-of-type {\n",
       "        vertical-align: middle;\n",
       "    }\n",
       "\n",
       "    .dataframe tbody tr th {\n",
       "        vertical-align: top;\n",
       "    }\n",
       "\n",
       "    .dataframe thead th {\n",
       "        text-align: right;\n",
       "    }\n",
       "</style>\n",
       "<table border=\"1\" class=\"dataframe\">\n",
       "  <thead>\n",
       "    <tr style=\"text-align: right;\">\n",
       "      <th></th>\n",
       "      <th>good</th>\n",
       "      <th>final_answer_length</th>\n",
       "    </tr>\n",
       "    <tr>\n",
       "      <th>prompt</th>\n",
       "      <th></th>\n",
       "      <th></th>\n",
       "    </tr>\n",
       "  </thead>\n",
       "  <tbody>\n",
       "    <tr>\n",
       "      <th>What is the last race on the calendar?</th>\n",
       "      <td>0.000000</td>\n",
       "      <td>79.000000</td>\n",
       "    </tr>\n",
       "    <tr>\n",
       "      <th>What is the next race?</th>\n",
       "      <td>0.000000</td>\n",
       "      <td>67.142857</td>\n",
       "    </tr>\n",
       "    <tr>\n",
       "      <th>What is the points difference between 1st and 2nd place?</th>\n",
       "      <td>1.000000</td>\n",
       "      <td>142.285714</td>\n",
       "    </tr>\n",
       "    <tr>\n",
       "      <th>When is the Mexican grand prix?</th>\n",
       "      <td>1.000000</td>\n",
       "      <td>46.285714</td>\n",
       "    </tr>\n",
       "    <tr>\n",
       "      <th>Which driver has the largest share of his teams points, where the combined team total is more than 50 points?</th>\n",
       "      <td>0.000000</td>\n",
       "      <td>707.428571</td>\n",
       "    </tr>\n",
       "    <tr>\n",
       "      <th>Which driver has the largest share of his teams points?</th>\n",
       "      <td>0.428571</td>\n",
       "      <td>2006.000000</td>\n",
       "    </tr>\n",
       "    <tr>\n",
       "      <th>Which driver who is NOT part of Mclaren, Redbull, Ferrari or Mercedes has the most points?</th>\n",
       "      <td>0.571429</td>\n",
       "      <td>587.428571</td>\n",
       "    </tr>\n",
       "    <tr>\n",
       "      <th>Which drivers are part of the team that is last in the standings?</th>\n",
       "      <td>0.000000</td>\n",
       "      <td>317.714286</td>\n",
       "    </tr>\n",
       "    <tr>\n",
       "      <th>Which drivers have over 100 points in the standings?</th>\n",
       "      <td>0.000000</td>\n",
       "      <td>459.714286</td>\n",
       "    </tr>\n",
       "    <tr>\n",
       "      <th>Which team is in 3rd place in the championship?</th>\n",
       "      <td>1.000000</td>\n",
       "      <td>287.857143</td>\n",
       "    </tr>\n",
       "    <tr>\n",
       "      <th>Who are the closest rivals to both Ferrari drivers?</th>\n",
       "      <td>0.000000</td>\n",
       "      <td>1375.714286</td>\n",
       "    </tr>\n",
       "    <tr>\n",
       "      <th>Who is leading the f1 drivers championship?</th>\n",
       "      <td>1.000000</td>\n",
       "      <td>85.571429</td>\n",
       "    </tr>\n",
       "    <tr>\n",
       "      <th>Who is the worst driver racing for Alpine?</th>\n",
       "      <td>0.714286</td>\n",
       "      <td>728.571429</td>\n",
       "    </tr>\n",
       "  </tbody>\n",
       "</table>\n",
       "</div>"
      ],
      "text/plain": [
       "                                                        good  \\\n",
       "prompt                                                         \n",
       "What is the last race on the calendar?              0.000000   \n",
       "What is the next race?                              0.000000   \n",
       "What is the points difference between 1st and 2...  1.000000   \n",
       "When is the Mexican grand prix?                     1.000000   \n",
       "Which driver has the largest share of his teams...  0.000000   \n",
       "Which driver has the largest share of his teams...  0.428571   \n",
       "Which driver who is NOT part of Mclaren, Redbul...  0.571429   \n",
       "Which drivers are part of the team that is last...  0.000000   \n",
       "Which drivers have over 100 points in the stand...  0.000000   \n",
       "Which team is in 3rd place in the championship?     1.000000   \n",
       "Who are the closest rivals to both Ferrari driv...  0.000000   \n",
       "Who is leading the f1 drivers championship?         1.000000   \n",
       "Who is the worst driver racing for Alpine?          0.714286   \n",
       "\n",
       "                                                    final_answer_length  \n",
       "prompt                                                                   \n",
       "What is the last race on the calendar?                        79.000000  \n",
       "What is the next race?                                        67.142857  \n",
       "What is the points difference between 1st and 2...           142.285714  \n",
       "When is the Mexican grand prix?                               46.285714  \n",
       "Which driver has the largest share of his teams...           707.428571  \n",
       "Which driver has the largest share of his teams...          2006.000000  \n",
       "Which driver who is NOT part of Mclaren, Redbul...           587.428571  \n",
       "Which drivers are part of the team that is last...           317.714286  \n",
       "Which drivers have over 100 points in the stand...           459.714286  \n",
       "Which team is in 3rd place in the championship?              287.857143  \n",
       "Who are the closest rivals to both Ferrari driv...          1375.714286  \n",
       "Who is leading the f1 drivers championship?                   85.571429  \n",
       "Who is the worst driver racing for Alpine?                   728.571429  "
      ]
     },
     "execution_count": 338,
     "metadata": {},
     "output_type": "execute_result"
    }
   ],
   "source": [
    "results_df.groupby('prompt')[['good', 'final_answer_length']].mean()"
   ]
  },
  {
   "cell_type": "code",
   "execution_count": 346,
   "id": "fba58395",
   "metadata": {},
   "outputs": [
    {
     "name": "stdout",
     "output_type": "stream",
     "text": [
      "html_table\n",
      "['What is the last race on the calendar?'\n",
      " 'Abu Dhabi Grand Prix on 5 to 7 December']\n"
     ]
    },
    {
     "data": {
      "text/markdown": [
       "The last race on the calendar is in Mexico, scheduled for 24 - 26 October 2025."
      ],
      "text/plain": [
       "<IPython.core.display.Markdown object>"
      ]
     },
     "metadata": {},
     "output_type": "display_data"
    }
   ],
   "source": [
    "tf = 6\n",
    "pmpt = 2\n",
    "print(table_formats[tf])\n",
    "print(qas[pmpt])\n",
    "display(Markdown(results_df[(results_df['table_format']==table_formats[tf]) & (results_df['prompt']==qas[pmpt][0])]['final_answer'].iloc[0]))"
   ]
  },
  {
   "cell_type": "code",
   "execution_count": null,
   "id": "8556c431",
   "metadata": {},
   "outputs": [],
   "source": [
    "results_df[(results_df['table_format']==table_formats[tf])].groupby('prompt')[['good', 'final_answer_length']].mean()"
   ]
  },
  {
   "cell_type": "markdown",
   "id": "502ec28c",
   "metadata": {},
   "source": [
    "# TODO\n",
    "- Improve caching by using race schedule\n",
    "- Test different schedule formats\n",
    "- Add result lookup functions\n",
    "- Fix last race and current race eval"
   ]
  }
 ],
 "metadata": {
  "kernelspec": {
   "display_name": "Python 3",
   "language": "python",
   "name": "python3"
  },
  "language_info": {
   "codemirror_mode": {
    "name": "ipython",
    "version": 3
   },
   "file_extension": ".py",
   "mimetype": "text/x-python",
   "name": "python",
   "nbconvert_exporter": "python",
   "pygments_lexer": "ipython3",
   "version": "3.12.10"
  }
 },
 "nbformat": 4,
 "nbformat_minor": 5
}
