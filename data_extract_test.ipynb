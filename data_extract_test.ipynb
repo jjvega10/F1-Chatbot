{
 "cells": [
  {
   "cell_type": "code",
   "execution_count": 167,
   "id": "c86ebc47",
   "metadata": {},
   "outputs": [],
   "source": [
    "from typing import Annotated\n",
    "from webdriver_manager.chrome import ChromeDriverManager\n",
    "from selenium import webdriver\n",
    "from selenium.webdriver.chrome.service import Service\n",
    "from selenium.webdriver.chrome.options import Options\n",
    "import time\n",
    "import htmltabletomd\n",
    "import re\n",
    "from bs4 import BeautifulSoup\n",
    "from openai import OpenAI\n",
    "import json\n",
    "import pandas as pd\n",
    "import htmlmin\n",
    "from io import StringIO\n",
    "import pandas as pd\n",
    "from IPython.display import display, Markdown\n",
    "\n",
    "def extract_text_from_dynamic_site(url, wait_time=10):\n",
    "    chrome_options = Options()\n",
    "    chrome_options.add_argument(\"--headless\")\n",
    "    chrome_options.add_argument(\"--no-sandbox\")\n",
    "    chrome_options.add_argument(\"--disable-dev-shm-usage\")\n",
    "    chrome_options.add_argument(\"--disable-blink-features=AutomationControlled\")\n",
    "    chrome_options.add_experimental_option(\"excludeSwitches\", [\"enable-automation\"])\n",
    "    chrome_options.add_experimental_option('useAutomationExtension', False)\n",
    "\n",
    "    service = Service(ChromeDriverManager().install())\n",
    "    driver = webdriver.Chrome(service=service, options=chrome_options)\n",
    "\n",
    "    try:\n",
    "        driver.get(url)\n",
    "        print(f\"Loaded: {url}\")\n",
    "        time.sleep(wait_time)\n",
    "        page_source = driver.page_source\n",
    "        soup = BeautifulSoup(page_source, 'html.parser')\n",
    "        return soup\n",
    "    except Exception as e:\n",
    "        print(f\"Error: {e}\")\n",
    "        return None\n",
    "    finally:\n",
    "        driver.quit()\n",
    "\n",
    "def get_f1_driver_standings(\n",
    "    standings_type: Annotated[str, \"Select 'drivers' or 'team' championship standings.\"]\n",
    ") -> str:\n",
    "    \"\"\"Get the current F1 drivers or teams standings. \n",
    "    Use it to determine the points for each driver in the driver's championship or the points for each team in the teams' championship.\"\"\"\n",
    "    if standings_type==\"team\":\n",
    "        url = f\"https://www.formula1.com/en/results/2025/team\"\n",
    "    else:\n",
    "        url = f\"https://www.formula1.com/en/results/2025/drivers\"\n",
    "    soup_og = extract_text_from_dynamic_site(url, wait_time=3)\n",
    "    html_table = soup_og.find_all('table')[0]\n",
    "    html_text = str(html_table.prettify())\n",
    "    html_text = re.sub(\" class=\\\"[^\\\"]*\\\"\", \"\", html_text)\n",
    "    html_text = re.sub(\"<img[^>]*>\", \"\", html_text)\n",
    "    html_text = re.sub(\"<a[^>]*>\", \"\", html_text)\n",
    "    html_text = re.sub(\"<span[^>]*>\", \"\", html_text)\n",
    "    html_text = re.sub(\"</span[^>]*>\", \"\", html_text)\n",
    "    html_text = re.sub(\"<br>\", \"\", html_text)\n",
    "    html_text = re.sub(\"<p>\", \"\", html_text)\n",
    "    html_text = re.sub(\"\\\\\\n *\", \"\", html_text)\n",
    "    drivers_standings_table = htmltabletomd.convert_table(html_text)\n",
    "    return drivers_standings_table\n",
    "\n",
    "# Retreive F1 schedule (with time zones)\n",
    "def get_f1_schedule() -> str:\n",
    "    # Parse the F1 schedule from the F1 website\n",
    "    url = f\"https://www.formula1.com/en/racing/2025.html\"\n",
    "    soup_og = extract_text_from_dynamic_site(url, wait_time=3)"
   ]
  },
  {
   "cell_type": "code",
   "execution_count": null,
   "id": "ff92654c",
   "metadata": {},
   "outputs": [
    {
     "name": "stdout",
     "output_type": "stream",
     "text": [
      "Loaded: https://www.formula1.com/en/results/2025/drivers\n"
     ]
    }
   ],
   "source": [
    "# Drivers\n",
    "soup_og = extract_text_from_dynamic_site(url, wait_time=3)\n",
    "html_table = soup_og.find_all('table')[0]\n",
    "html_text = str(html_table.prettify())\n",
    "html_text = re.sub(\" class=\\\"[^\\\"]*\\\"\", \"\", html_text)\n",
    "html_text = re.sub(\"<img[^>]*>\", \"\", html_text)\n",
    "html_text = re.sub(\"<a[^>]*>\", \"\", html_text)\n",
    "html_text = re.sub(\"<span[^>]*>\", \"\", html_text)\n",
    "html_text = re.sub(\"</span[^>]*>\", \"\", html_text)\n",
    "html_text = re.sub(\"<br>\", \"\", html_text)\n",
    "html_text = re.sub(\"<p>\", \"\", html_text)\n",
    "html_text = re.sub(\"\\\\\\n *\", \"\", html_text)\n",
    "dr_raw_markdown_table = htmltabletomd.convert_table(html_text)\n",
    "drivers = pd.read_html(StringIO(html_text))[0]"
   ]
  },
  {
   "cell_type": "code",
   "execution_count": null,
   "id": "0268890c",
   "metadata": {},
   "outputs": [
    {
     "data": {
      "application/vnd.microsoft.datawrangler.viewer.v0+json": {
       "columns": [
        {
         "name": "index",
         "rawType": "int64",
         "type": "integer"
        },
        {
         "name": "DRIVER",
         "rawType": "object",
         "type": "string"
        },
        {
         "name": "%_team_points",
         "rawType": "float64",
         "type": "float"
        }
       ],
       "ref": "f6f021dd-3a9f-4405-aaec-04fe50c0e8d8",
       "rows": [
        [
         "2",
         "Max Verstappen",
         "95.0413223140496"
        ],
        [
         "6",
         "Alexander Albon",
         "81.3953488372093"
        ],
        [
         "3",
         "George Russell",
         "74.61538461538461"
        ],
        [
         "9",
         "Nico Hulkenberg",
         "67.27272727272727"
        ],
        [
         "8",
         "Isack Hadjar",
         "65.51724137931035"
        ],
        [
         "4",
         "Charles Leclerc",
         "58.214285714285715"
        ],
        [
         "0",
         "Oscar Piastri",
         "52.51215559157212"
        ],
        [
         "10",
         "Lance Stroll",
         "51.61290322580645"
        ],
        [
         "11",
         "Fernando Alonso",
         "48.38709677419355"
        ],
        [
         "1",
         "Lando Norris",
         "47.487844408427875"
        ]
       ],
       "shape": {
        "columns": 2,
        "rows": 10
       }
      },
      "text/html": [
       "<div>\n",
       "<style scoped>\n",
       "    .dataframe tbody tr th:only-of-type {\n",
       "        vertical-align: middle;\n",
       "    }\n",
       "\n",
       "    .dataframe tbody tr th {\n",
       "        vertical-align: top;\n",
       "    }\n",
       "\n",
       "    .dataframe thead th {\n",
       "        text-align: right;\n",
       "    }\n",
       "</style>\n",
       "<table border=\"1\" class=\"dataframe\">\n",
       "  <thead>\n",
       "    <tr style=\"text-align: right;\">\n",
       "      <th></th>\n",
       "      <th>DRIVER</th>\n",
       "      <th>%_team_points</th>\n",
       "    </tr>\n",
       "  </thead>\n",
       "  <tbody>\n",
       "    <tr>\n",
       "      <th>2</th>\n",
       "      <td>Max Verstappen</td>\n",
       "      <td>95.041322</td>\n",
       "    </tr>\n",
       "    <tr>\n",
       "      <th>6</th>\n",
       "      <td>Alexander Albon</td>\n",
       "      <td>81.395349</td>\n",
       "    </tr>\n",
       "    <tr>\n",
       "      <th>3</th>\n",
       "      <td>George Russell</td>\n",
       "      <td>74.615385</td>\n",
       "    </tr>\n",
       "    <tr>\n",
       "      <th>9</th>\n",
       "      <td>Nico Hulkenberg</td>\n",
       "      <td>67.272727</td>\n",
       "    </tr>\n",
       "    <tr>\n",
       "      <th>8</th>\n",
       "      <td>Isack Hadjar</td>\n",
       "      <td>65.517241</td>\n",
       "    </tr>\n",
       "    <tr>\n",
       "      <th>4</th>\n",
       "      <td>Charles Leclerc</td>\n",
       "      <td>58.214286</td>\n",
       "    </tr>\n",
       "    <tr>\n",
       "      <th>0</th>\n",
       "      <td>Oscar Piastri</td>\n",
       "      <td>52.512156</td>\n",
       "    </tr>\n",
       "    <tr>\n",
       "      <th>10</th>\n",
       "      <td>Lance Stroll</td>\n",
       "      <td>51.612903</td>\n",
       "    </tr>\n",
       "    <tr>\n",
       "      <th>11</th>\n",
       "      <td>Fernando Alonso</td>\n",
       "      <td>48.387097</td>\n",
       "    </tr>\n",
       "    <tr>\n",
       "      <th>1</th>\n",
       "      <td>Lando Norris</td>\n",
       "      <td>47.487844</td>\n",
       "    </tr>\n",
       "  </tbody>\n",
       "</table>\n",
       "</div>"
      ],
      "text/plain": [
       "             DRIVER  %_team_points\n",
       "2    Max Verstappen      95.041322\n",
       "6   Alexander Albon      81.395349\n",
       "3    George Russell      74.615385\n",
       "9   Nico Hulkenberg      67.272727\n",
       "8      Isack Hadjar      65.517241\n",
       "4   Charles Leclerc      58.214286\n",
       "0     Oscar Piastri      52.512156\n",
       "10     Lance Stroll      51.612903\n",
       "11  Fernando Alonso      48.387097\n",
       "1      Lando Norris      47.487844"
      ]
     },
     "metadata": {},
     "output_type": "display_data"
    }
   ],
   "source": [
    "drivers['team_points'] = drivers.groupby('TEAM')['PTS.'].transform('sum')\n",
    "drivers['%_team_points'] = drivers['PTS.'] / drivers['team_points'] * 100\n",
    "drivers[drivers['team_points']>50][['DRIVER', '%_team_points']].sort_values(by='%_team_points', ascending=False).head(10)"
   ]
  },
  {
   "cell_type": "code",
   "execution_count": 141,
   "id": "bec4eca1",
   "metadata": {},
   "outputs": [],
   "source": [
    "# HTML table whitespace\n",
    "dr_html_table = drivers.set_index('POS.')[['DRIVER', 'TEAM', 'PTS.']].to_html(border='')\n",
    "# Minify HTML\n",
    "dr_minified = htmlmin.minify(dr_html_table, remove_empty_space=True)\n",
    "# Markdown table\n",
    "dr_markdown_table = drivers.set_index('POS.')[['DRIVER', 'TEAM', 'PTS.']].to_markdown()\n",
    "# Natural language - New line\n",
    "dr_nl_1 = []\n",
    "for row in drivers[['POS.', 'DRIVER', 'TEAM', 'PTS.']].values:\n",
    "    dr_nl_1.append(f\"{row[0]}. {row[1]} has {row[3]} points and drives for {row[2]}.\")\n",
    "dr_nl_1 = '\\n'.join(dr_nl_1)\n",
    "# Natural language - <> tag inline\n",
    "dr_nl_2 = []\n",
    "for row in drivers[['POS.', 'DRIVER', 'TEAM', 'PTS.']].values:\n",
    "    dr_nl_2.append(f\"<{row[0]}>{row[1]} has {row[3]} points and drives for {row[2]}</{row[0]}>\")\n",
    "dr_nl_2 = ''.join(dr_nl_2)\n",
    "# Natural language - <> tag new line\n",
    "dr_nl_3 = []\n",
    "for row in drivers[['POS.', 'DRIVER', 'TEAM', 'PTS.']].values:\n",
    "    dr_nl_3.append(f\"<{row[0]}>{row[1]} has {row[3]} points and drives for {row[2]}</{row[0]}>\")\n",
    "dr_nl_3 = '\\n'.join(dr_nl_3)"
   ]
  },
  {
   "cell_type": "code",
   "execution_count": 142,
   "id": "e47f19ce",
   "metadata": {},
   "outputs": [],
   "source": [
    "dr_table_formats = {\n",
    "    \"html_table\": dr_html_table,\n",
    "    \"html_mini\": dr_minified,\n",
    "    \"markdown_table\": dr_markdown_table,\n",
    "    \"raw_markdown_table\": dr_raw_markdown_table,\n",
    "    \"natural_language_new_line\": dr_nl_1,\n",
    "    \"natural_language_inline_tags\": dr_nl_2,\n",
    "    \"natural_language_new_line_tags\": dr_nl_3\n",
    "}"
   ]
  },
  {
   "cell_type": "code",
   "execution_count": 144,
   "id": "15d67e31",
   "metadata": {},
   "outputs": [
    {
     "name": "stdout",
     "output_type": "stream",
     "text": [
      "Loaded: https://www.formula1.com/en/results/2025/team\n"
     ]
    }
   ],
   "source": [
    "# Teams\n",
    "url = f\"https://www.formula1.com/en/results/2025/team\"\n",
    "soup_og = extract_text_from_dynamic_site(url, wait_time=3)\n",
    "html_table = soup_og.find_all('table')[0]\n",
    "html_text = str(html_table.prettify())\n",
    "html_text = re.sub(\" class=\\\"[^\\\"]*\\\"\", \"\", html_text)\n",
    "html_text = re.sub(\"<img[^>]*>\", \"\", html_text)\n",
    "html_text = re.sub(\"<a[^>]*>\", \"\", html_text)\n",
    "html_text = re.sub(\"<span[^>]*>\", \"\", html_text)\n",
    "html_text = re.sub(\"</span[^>]*>\", \"\", html_text)\n",
    "html_text = re.sub(\"<br>\", \"\", html_text)\n",
    "html_text = re.sub(\"<p>\", \"\", html_text)\n",
    "html_text = re.sub(\"\\\\\\n *\", \"\", html_text)\n",
    "tm_raw_markdown_table = htmltabletomd.convert_table(html_text)\n",
    "teams = pd.read_html(StringIO(html_text))[0]"
   ]
  },
  {
   "cell_type": "code",
   "execution_count": 147,
   "id": "872f50cf",
   "metadata": {},
   "outputs": [],
   "source": [
    "# HTML table whitespace\n",
    "tm_html_table = teams.set_index('POS.')[['TEAM', 'PTS.']].to_html(border='')\n",
    "# Minify HTML\n",
    "tm_minified = htmlmin.minify(tm_html_table, remove_empty_space=True)\n",
    "# Markdown table\n",
    "tm_markdown_table = teams.set_index('POS.')[['TEAM', 'PTS.']].to_markdown()\n",
    "# Natural language - New line\n",
    "tm_nl_1 = []\n",
    "for row in teams[['POS.', 'TEAM', 'PTS.']].values:\n",
    "    tm_nl_1.append(f\"{row[0]}. {row[1]} has {row[2]} points.\")\n",
    "tm_nl_1 = '\\n'.join(tm_nl_1)\n",
    "# Natural language - <> tag inline\n",
    "tm_nl_2 = []\n",
    "for row in teams[['POS.', 'TEAM', 'PTS.']].values:\n",
    "    tm_nl_2.append(f\"<{row[0]}>{row[1]} has {row[2]} points</{row[0]}>\")\n",
    "tm_nl_2 = ''.join(tm_nl_2)\n",
    "# Natural language - <> tag new line\n",
    "tm_nl_3 = []\n",
    "for row in teams[['POS.', 'TEAM', 'PTS.']].values:\n",
    "    tm_nl_3.append(f\"<{row[0]}>{row[1]} has {row[2]} points</{row[0]}>\")\n",
    "tm_nl_3 = '\\n'.join(tm_nl_3)"
   ]
  },
  {
   "cell_type": "code",
   "execution_count": null,
   "id": "388587bc",
   "metadata": {},
   "outputs": [],
   "source": [
    "tm_table_formats = {\n",
    "    \"html_table\": tm_html_table,\n",
    "    \"html_mini\": tm_minified,\n",
    "    \"markdown_table\": tm_markdown_table,\n",
    "    \"raw_markdown_table\": tm_raw_markdown_table,\n",
    "    \"natural_language_new_line\": tm_nl_1,\n",
    "    \"natural_language_inline_tags\": tm_nl_2,\n",
    "    \"natural_language_new_line_tags\": tm_nl_3\n",
    "}"
   ]
  },
  {
   "cell_type": "code",
   "execution_count": 151,
   "id": "c2ab1989",
   "metadata": {},
   "outputs": [],
   "source": [
    "table_formats = list(set(dr_table_formats.keys()).intersection(set(tm_table_formats.keys())))"
   ]
  },
  {
   "cell_type": "code",
   "execution_count": 165,
   "id": "ffe6be68",
   "metadata": {},
   "outputs": [],
   "source": [
    "qas = pd.read_csv('test_prompts.txt', sep='|', header=None, names=['Prompt', 'Answer']).values"
   ]
  },
  {
   "cell_type": "code",
   "execution_count": 249,
   "id": "82db198b",
   "metadata": {},
   "outputs": [
    {
     "name": "stdout",
     "output_type": "stream",
     "text": [
      "9/9 - html_tablewn_tableew_line_tags\r"
     ]
    }
   ],
   "source": [
    "results = []\n",
    "for i, (prompt, answer) in enumerate(qas):\n",
    "    for curr_table_name in table_formats:\n",
    "        # Point to the local server\n",
    "        client = OpenAI(base_url=\"http://localhost:1234/v1\", api_key=\"lm-studio\")\n",
    "        model = \"qwen/qwen3-4b-2507\"\n",
    "        def get_f1_driver_standings(\n",
    "            standings_type: Annotated[str, \"Select 'drivers' or 'team' championship standings.\"]\n",
    "        ) -> str:\n",
    "            \"\"\"Get the current F1 drivers or teams standings. \n",
    "            Use it to determine the points for each driver in the driver's championship or the points for each team in the teams' championship.\"\"\"\n",
    "            if standings_type==\"team\":\n",
    "                return tm_table_formats[curr_table_name]\n",
    "            else:\n",
    "                return dr_table_formats[curr_table_name]\n",
    "\n",
    "        tools = [\n",
    "            {\n",
    "                \"type\":\"function\",\n",
    "                \"function\": {\n",
    "                    \"name\": \"get_f1_standings\",\n",
    "                    \"description\": \"Get the current F1 drivers or team standings. Use it to determine the points for each driver in the driver's championship or the points for each team in the teams' championship.\",\n",
    "                    \"parameters\":  {\n",
    "                        \"type\": \"object\",\n",
    "                        \"properties\": {\n",
    "                            \"standings_type\": {\n",
    "                                \"type\": \"string\",\n",
    "                                \"description\": \"Selects either 'drivers' or 'team' championship standings.\"\n",
    "                            }\n",
    "                        }\n",
    "                    },\n",
    "                        \"required\":[\"standings_type\"],\n",
    "                        \"additionalProperties\": False,\n",
    "                    },\n",
    "                },\n",
    "        ]\n",
    "\n",
    "        messages = [\n",
    "            {\n",
    "                \"role\":\"system\",\n",
    "                \"content\":\"You are an expert in Formula 1 that will assist the user with questions regarding the sport. Use the supplied tools to assist the user.\",\n",
    "            },\n",
    "            {\n",
    "                \"role\": \"user\",\n",
    "                \"content\": prompt,\n",
    "            },\n",
    "        ]\n",
    "\n",
    "        # LM Studio\n",
    "        response = client.chat.completions.create(\n",
    "            model=model,\n",
    "            messages=messages,\n",
    "            tools=tools,\n",
    "        )\n",
    "        first_response = response\n",
    "        # Extract the arguments for get_delivery_date\n",
    "        # Note this code assumes we have already determined that the model generated a function call.\n",
    "        tool_calls = getattr(response.choices[0].message, \"tool_calls\", None)\n",
    "        if tool_calls and len(tool_calls) > 0:\n",
    "            tool_call = tool_calls[0]\n",
    "            arguments = json.loads(tool_call.function.arguments)\n",
    "            standings_type = arguments.get(\"standings_type\")\n",
    "            drivers_standings_table = get_f1_driver_standings(standings_type)\n",
    "            assistant_tool_call_request_message = {\n",
    "                \"role\": \"assistant\",\n",
    "                \"tool_calls\": [\n",
    "                    {\n",
    "                        \"id\":response.choices[0].message.tool_calls[0].id,\n",
    "                        \"type\":response.choices[0].message.tool_calls[0].type,\n",
    "                        \"function\":response.choices[0].message.tool_calls[0].function,\n",
    "                    }\n",
    "                ],\n",
    "            }\n",
    "\n",
    "            # Create a message containing the result of the function call\n",
    "            function_call_result_message = {\n",
    "                \"role\":\"tool\",\n",
    "                \"content\": json.dumps(\n",
    "                    {\n",
    "                        \"standings_type\": standings_type,\n",
    "                        \"drivers_standings_table\": drivers_standings_table,\n",
    "                    }\n",
    "                ),\n",
    "                \"tool_call_id\": response.choices[0].message.tool_calls[0].id,\n",
    "            }\n",
    "\n",
    "            # Prepare the chat completion call payload\n",
    "            completion_messages_payload = [\n",
    "                messages[0],\n",
    "                messages[1],\n",
    "                assistant_tool_call_request_message,\n",
    "                function_call_result_message,\n",
    "            ]\n",
    "\n",
    "            # Call the OpenAI API's chat completions endpoint to send the tool call result back\n",
    "            # to the model\n",
    "            response = client.chat.completions.create(\n",
    "                model=model,\n",
    "                messages=completion_messages_payload,\n",
    "            )\n",
    "\n",
    "        final_response = response.choices[0].message.content\n",
    "        messages = [\n",
    "            {\n",
    "                \"role\":\"system\",\n",
    "                \"content\":\"You a teacher evaluating student answers to questions about Formula 1. You have a <question> a <correct_answer> and a <student_answer>. Only respond with 'Correct' or 'Incorrect'.\",\n",
    "            },\n",
    "            {\n",
    "                \"role\": \"user\",\n",
    "                \"content\": f\"<question>{prompt}</question><correct_answer>{answer}</correct_answer><student_answer>{final_response}</student_answer>\",\n",
    "            },\n",
    "        ]\n",
    "\n",
    "        # LM Studio\n",
    "        response = client.chat.completions.create(\n",
    "            model=model,\n",
    "            messages=messages,\n",
    "        )\n",
    "        evaluation = response.choices[0].message.content\n",
    "        results.append([model, curr_table_name, prompt, answer, final_response, len(final_response), evaluation])\n",
    "        print(f\"{i+1}/{len(qas)} - {curr_table_name}\", end='\\r')\n",
    "results_df = pd.DataFrame(results, columns=['model', 'table_format', 'prompt', 'correct_answer', 'final_answer', 'final_answer_length', 'evaluation'])\n",
    "results_df['good'] = results_df['evaluation'].map({'Correct': 1, 'Incorrect': 0})"
   ]
  },
  {
   "cell_type": "code",
   "execution_count": null,
   "id": "4d395747",
   "metadata": {},
   "outputs": [],
   "source": [
    "results_df.groupby('table_format')[['good', 'final_answer_length']].mean().reset_index()"
   ]
  },
  {
   "cell_type": "code",
   "execution_count": null,
   "id": "a4c90099",
   "metadata": {},
   "outputs": [],
   "source": [
    "results_df.groupby('prompt')[['good', 'final_answer_length']].mean()"
   ]
  },
  {
   "cell_type": "code",
   "execution_count": null,
   "id": "c18049a7",
   "metadata": {},
   "outputs": [],
   "source": [
    "results_df[(results_df['table_format']==table_formats[tf])].groupby('prompt')[['good', 'final_answer_length']].mean()"
   ]
  },
  {
   "cell_type": "code",
   "execution_count": 292,
   "id": "fba58395",
   "metadata": {},
   "outputs": [
    {
     "name": "stdout",
     "output_type": "stream",
     "text": [
      "html_mini\n",
      "['What is the points difference between 1st and 2nd place?' '31 points']\n"
     ]
    },
    {
     "data": {
      "text/markdown": [
       "The points difference between 1st and 2nd place is:\n",
       "\n",
       "**324 (Oscar Piastri) - 293 (Lando Norris) = 31 points.**\n",
       "\n",
       "So, the points difference is **31 points**."
      ],
      "text/plain": [
       "<IPython.core.display.Markdown object>"
      ]
     },
     "metadata": {},
     "output_type": "display_data"
    }
   ],
   "source": [
    "tf = 3\n",
    "pmpt = 8\n",
    "print(table_formats[tf])\n",
    "print(qas[pmpt])\n",
    "display(Markdown(results_df[(results_df['table_format']==table_formats[tf]) & (results_df['prompt']==qas[pmpt][0])]['final_answer'].iloc[0]))"
   ]
  }
 ],
 "metadata": {
  "kernelspec": {
   "display_name": "Python 3",
   "language": "python",
   "name": "python3"
  },
  "language_info": {
   "codemirror_mode": {
    "name": "ipython",
    "version": 3
   },
   "file_extension": ".py",
   "mimetype": "text/x-python",
   "name": "python",
   "nbconvert_exporter": "python",
   "pygments_lexer": "ipython3",
   "version": "3.12.10"
  }
 },
 "nbformat": 4,
 "nbformat_minor": 5
}
